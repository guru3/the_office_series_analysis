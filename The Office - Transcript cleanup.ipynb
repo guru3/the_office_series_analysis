{
 "cells": [
  {
   "cell_type": "markdown",
   "metadata": {},
   "source": [
    "### Getting transcript data from https://transcripts.foreverdreaming.org/viewforum.php?f=574\n",
    "### The Office episode ratings from https://www.kaggle.com/kapastor/the-office-imdb-ratings-per-episode"
   ]
  },
  {
   "cell_type": "code",
   "execution_count": 1,
   "metadata": {},
   "outputs": [],
   "source": [
    "import os\n",
    "import csv\n",
    "import re\n",
    "import pandas as pd\n",
    "import pickle\n",
    "import string\n",
    "from sklearn.feature_extraction.stop_words import ENGLISH_STOP_WORDS\n",
    "from nltk.tokenize import word_tokenize"
   ]
  },
  {
   "cell_type": "code",
   "execution_count": 2,
   "metadata": {},
   "outputs": [],
   "source": [
    "RAW_BASE_PATH = '/Users/gursharan/Desktop/the_office_transcript/'"
   ]
  },
  {
   "cell_type": "code",
   "execution_count": 3,
   "metadata": {},
   "outputs": [],
   "source": [
    "theOfficeIMDB = pd.read_csv( open( os.path.join(RAW_BASE_PATH, 'TheOfficeIMDBPerEpisode.csv'), 'r' ) )"
   ]
  },
  {
   "cell_type": "code",
   "execution_count": 4,
   "metadata": {},
   "outputs": [],
   "source": [
    "CHARACTERS_UPPER = ['MICHAEL', 'JIM', 'PAM', 'DWIGHT', 'OSCAR', 'ANGELA',\n",
    "                   'KELLY', 'TOBY', 'ANDY', 'PHYLLIS', 'RYAN', 'GABE',\n",
    "                   'ERIN', 'DARRYL', 'CREED', 'KEVIN', 'MEREDITH'];\n",
    "\n",
    "TRANSITION = str.maketrans('', '', string.punctuation)"
   ]
  },
  {
   "cell_type": "code",
   "execution_count": 5,
   "metadata": {},
   "outputs": [],
   "source": [
    "def toCharacterNameList( charGroupName ):\n",
    "    characters = [ character.strip() for character in charGroupName.split('&') ]\n",
    "    return characters;\n",
    "\n",
    "def rawTranscriptToCharacterDialogueMap( file_path ):\n",
    "    transcript = []\n",
    "    file = open( file_path, 'r');\n",
    "    i = 0;\n",
    "    for line in file.readlines():\n",
    "        line = line.split('*');\n",
    "        if len(line) < 3: # empty, character name, dialogue\n",
    "            continue\n",
    "        character_name_list = toCharacterNameList( line[1].upper() );\n",
    "        for character_name in character_name_list:\n",
    "            end = 2\n",
    "            if( len(character_name) != 0 and character_name[-1] == ':' ):\n",
    "                character_name = character_name[:-1]\n",
    "                end = 0\n",
    "            if not character_name in CHARACTERS_UPPER:\n",
    "                continue;\n",
    "            dialogue = '*'.join( [ line[2][end:] ] + line[3:] )[:-1]\n",
    "            if( len(dialogue) == 0 ):\n",
    "                continue;\n",
    "            transcript.append( [ character_name, dialogue ] );\n",
    "    return transcript;"
   ]
  },
  {
   "cell_type": "code",
   "execution_count": 6,
   "metadata": {},
   "outputs": [],
   "source": [
    "season_map_parsed = {}\n",
    "for season in os.listdir(RAW_BASE_PATH):\n",
    "    if not 'season' in season:\n",
    "        continue;\n",
    "    episodes_map = {};\n",
    "    season_path = os.path.join(RAW_BASE_PATH, season);\n",
    "    for episode in os.listdir(season_path):\n",
    "        if not '.html' in episode:\n",
    "            continue\n",
    "        episode_path = os.path.join(season_path, episode);\n",
    "        episodes_map[episode] = rawTranscriptToCharacterDialogueMap( \n",
    "            episode_path );\n",
    "    season_map_parsed[season] = episodes_map;"
   ]
  },
  {
   "cell_type": "code",
   "execution_count": 7,
   "metadata": {},
   "outputs": [],
   "source": [
    "def cleanDialogue( text ):\n",
    "    for char in ['\\n','.',',','…','-',':',';']:\n",
    "        text = text.replace(char, ' ')\n",
    "    for char in [\"'\",'\"','’']:\n",
    "        text = text.replace(char, '')\n",
    "\n",
    "    x = re.sub(r\"\\[.*?\\]\", \"\", text);\n",
    "    dialogue = x.strip().translate(TRANSITION)\n",
    "    text_subsets = word_tokenize(dialogue)\n",
    "    dialogue = [w.lower() for w in text_subsets if not w in ENGLISH_STOP_WORDS]\n",
    "    dialogue = ' '.join(dialogue)\n",
    "    return dialogue;"
   ]
  },
  {
   "cell_type": "code",
   "execution_count": 8,
   "metadata": {},
   "outputs": [],
   "source": [
    "season_map_cleaned = {}\n",
    "for season in season_map_parsed.keys():\n",
    "    episodes_map = {};\n",
    "    for episode in season_map_parsed[season].keys():\n",
    "        transcript = []\n",
    "        for charDialogue in season_map_parsed[season][episode]:\n",
    "            transcript.append( [ charDialogue[0], cleanDialogue( charDialogue[1] ) ] )\n",
    "        episodes_map[episode] = transcript\n",
    "    season_map_cleaned[season] = episodes_map;"
   ]
  },
  {
   "cell_type": "code",
   "execution_count": 9,
   "metadata": {},
   "outputs": [],
   "source": [
    "with open('./the_office_transcript.pickle', 'wb') as f:\n",
    "    pickle.dump( [season_map_parsed, season_map_cleaned, theOfficeIMDB],  f)"
   ]
  },
  {
   "cell_type": "code",
   "execution_count": null,
   "metadata": {},
   "outputs": [],
   "source": []
  }
 ],
 "metadata": {
  "kernelspec": {
   "display_name": "Python 3",
   "language": "python",
   "name": "python3"
  },
  "language_info": {
   "codemirror_mode": {
    "name": "ipython",
    "version": 3
   },
   "file_extension": ".py",
   "mimetype": "text/x-python",
   "name": "python",
   "nbconvert_exporter": "python",
   "pygments_lexer": "ipython3",
   "version": "3.7.3"
  }
 },
 "nbformat": 4,
 "nbformat_minor": 2
}
